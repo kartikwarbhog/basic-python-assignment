{
 "cells": [
  {
   "cell_type": "markdown",
   "id": "c4213bf0",
   "metadata": {
    "jp-MarkdownHeadingCollapsed": true
   },
   "source": [
    "## 1. Explain the key features of python that make it a popular choice for programming"
   ]
  },
  {
   "cell_type": "markdown",
   "id": "3053caf0",
   "metadata": {},
   "source": [
    "Python is most widely used language in the world \n",
    "Python has 137000+ libraries that helps programmer while writing code\n",
    "Python has easy syntax than other programming languages\n",
    "Python is used in many platforms such as data sicence, data analytics, software developement etc\n",
    "Python has large community support than other programming language\n",
    "The above reasons makes popular choice for python as a programming language"
   ]
  },
  {
   "cell_type": "markdown",
   "id": "b3eb49cd",
   "metadata": {
    "jp-MarkdownHeadingCollapsed": true
   },
   "source": [
    "## 2. Describe the role of predefined keywords in Python and provide examples of how they are used in a program"
   ]
  },
  {
   "cell_type": "markdown",
   "id": "78420654",
   "metadata": {},
   "source": [
    "Predefined keywords are the already defined keywords in python which has special meaning and are used for a specific purpose. Predefied keywords cannot used as a varaible Following are the predefined keywords in python"
   ]
  },
  {
   "cell_type": "code",
   "execution_count": 26,
   "id": "48031804",
   "metadata": {},
   "outputs": [
    {
     "name": "stdout",
     "output_type": "stream",
     "text": [
      "\n",
      "Here is a list of the Python keywords.  Enter any keyword to get more help.\n",
      "\n",
      "False               class               from                or\n",
      "None                continue            global              pass\n",
      "True                def                 if                  raise\n",
      "and                 del                 import              return\n",
      "as                  elif                in                  try\n",
      "assert              else                is                  while\n",
      "async               except              lambda              with\n",
      "await               finally             nonlocal            yield\n",
      "break               for                 not                 \n",
      "\n"
     ]
    }
   ],
   "source": [
    "help('keywords')"
   ]
  },
  {
   "cell_type": "code",
   "execution_count": 40,
   "id": "e7b7847e",
   "metadata": {},
   "outputs": [
    {
     "name": "stdout",
     "output_type": "stream",
     "text": [
      "You can not drive\n"
     ]
    }
   ],
   "source": [
    "# How predefined keywords are used in program\n",
    "\n",
    "age = 25\n",
    "licence = False\n",
    "if(age < 18):\n",
    "    print(\"You can not drive\")\n",
    "elif((age >= 18) and (licence == True)):\n",
    "    print(\"You can drive\")\n",
    "else:\n",
    "    print(\"You can not drive\")"
   ]
  },
  {
   "cell_type": "markdown",
   "id": "ad2cb1d8",
   "metadata": {
    "jp-MarkdownHeadingCollapsed": true
   },
   "source": [
    "## 3. Compare and contrast mutable and immutable objects in Python with examples"
   ]
  },
  {
   "cell_type": "markdown",
   "id": "19c4ef15",
   "metadata": {},
   "source": [
    "Mutable objects are the objects which we can easily change or edit. Mutable objects we use when there is need to change in data. list is an example of mutable object"
   ]
  },
  {
   "cell_type": "markdown",
   "id": "a71ac2e8",
   "metadata": {},
   "source": [
    "Immutable objects are exactly opposite to the mutable objects. We cannot change or edit immutable objects We can. If there is not need to change data in that case we use immutable objects. tuple is an example of immutable objects"
   ]
  },
  {
   "cell_type": "code",
   "execution_count": 20,
   "id": "908fc9ac",
   "metadata": {},
   "outputs": [
    {
     "name": "stdout",
     "output_type": "stream",
     "text": [
      "[9, 2, 3, 'kartik', 2.5, 4.8, True]\n"
     ]
    },
    {
     "ename": "TypeError",
     "evalue": "'type' object does not support item assignment",
     "output_type": "error",
     "traceback": [
      "\u001b[1;31m---------------------------------------------------------------------------\u001b[0m",
      "\u001b[1;31mTypeError\u001b[0m                                 Traceback (most recent call last)",
      "Cell \u001b[1;32mIn[20], line 8\u001b[0m\n\u001b[0;32m      5\u001b[0m \u001b[38;5;28mprint\u001b[39m(list1)\n\u001b[0;32m      7\u001b[0m tuple1 \u001b[38;5;241m=\u001b[39m (\u001b[38;5;241m1\u001b[39m, \u001b[38;5;241m2\u001b[39m, \u001b[38;5;241m3\u001b[39m, \u001b[38;5;124m\"\u001b[39m\u001b[38;5;124mkartik\u001b[39m\u001b[38;5;124m\"\u001b[39m, \u001b[38;5;241m2.5\u001b[39m, \u001b[38;5;241m4.8\u001b[39m, \u001b[38;5;28;01mTrue\u001b[39;00m)\n\u001b[1;32m----> 8\u001b[0m \u001b[38;5;28mtuple\u001b[39m[\u001b[38;5;241m0\u001b[39m] \u001b[38;5;241m=\u001b[39m \u001b[38;5;241m9\u001b[39m\n\u001b[0;32m      9\u001b[0m \u001b[38;5;28mprint\u001b[39m(tuple1)\n",
      "\u001b[1;31mTypeError\u001b[0m: 'type' object does not support item assignment"
     ]
    }
   ],
   "source": [
    "# Exaple of mutable and immutable objects\n",
    "\n",
    "list1 = [1, 2, 3, \"kartik\", 2.5, 4.8, True]\n",
    "list1[0] = 9\n",
    "print(list1)\n",
    "\n",
    "tuple1 = (1, 2, 3, \"kartik\", 2.5, 4.8, True)\n",
    "tuple[0] = 9\n",
    "print(tuple1) # throwing an error"
   ]
  },
  {
   "cell_type": "markdown",
   "id": "bdede936-6266-41ed-86ad-e3c1d801c9ef",
   "metadata": {
    "jp-MarkdownHeadingCollapsed": true
   },
   "source": [
    "## 4. Discuss the different types of operators in Python and provide examples of how they are used."
   ]
  },
  {
   "cell_type": "markdown",
   "id": "b66925f9-5a1b-4c1e-81fc-8cdbd9191938",
   "metadata": {},
   "source": [
    "Types of operators in python - \n",
    "    1) Arithmatic operator\n",
    "    2) comparision Operator\n",
    "    3) Logical Operator\n",
    "    4) Bitwise Operator\n",
    "    5) Assignment Operator\n",
    "    6) Membership operator\n",
    "    7) Identity Operator"
   ]
  },
  {
   "cell_type": "markdown",
   "id": "111ee59e-e094-4bc5-945a-f5ef6204b8e0",
   "metadata": {},
   "source": [
    "Arithmatic Operator \n",
    "    - Operators which are used for arithmatic operations or calculations such as addition, substraction, multiplication, division are called Arithmatic operator\n",
    "    - Arithmatic operators are +, -, *, /, %"
   ]
  },
  {
   "cell_type": "code",
   "execution_count": 5,
   "id": "9f5b1812-ef88-4039-8e67-9ef631ab9f35",
   "metadata": {},
   "outputs": [
    {
     "name": "stdout",
     "output_type": "stream",
     "text": [
      "30\n",
      "-10\n",
      "200\n",
      "0.5\n",
      "10\n"
     ]
    }
   ],
   "source": [
    "# Example of arithmatic operators\n",
    "a = 10\n",
    "b = 20\n",
    "print(a+b)\n",
    "print(a-b)\n",
    "print(a*b)\n",
    "print(a/b)\n",
    "print(a%b)"
   ]
  },
  {
   "cell_type": "markdown",
   "id": "c1a53a58-5069-4795-9685-53e45155dae2",
   "metadata": {},
   "source": [
    "Comparision Operator - \n",
    "    - Comparision Operators are used to compare between variables\n",
    "    - Comparision operators are ==, <, <=, >, >=, !="
   ]
  },
  {
   "cell_type": "code",
   "execution_count": 7,
   "id": "bbd87023-dbed-4dd6-af59-9a70cca5534e",
   "metadata": {},
   "outputs": [
    {
     "name": "stdout",
     "output_type": "stream",
     "text": [
      "False\n",
      "True\n",
      "True\n",
      "False\n",
      "True\n",
      "True\n"
     ]
    }
   ],
   "source": [
    "# Example of comparision operators\n",
    "a = 5\n",
    "b = 7\n",
    "print(a == b)\n",
    "print(a < b)\n",
    "print(a <= b)\n",
    "print(a > b)\n",
    "print(a <= b)\n",
    "print(a != b)"
   ]
  },
  {
   "cell_type": "markdown",
   "id": "8b00d02e-438a-4cf8-8f82-37686cdfb660",
   "metadata": {},
   "source": [
    "Logical Operator - logical operators are used to compare with logical. logical operators are and, or, not"
   ]
  },
  {
   "cell_type": "code",
   "execution_count": 15,
   "id": "ce5b9d14-b1cf-4946-bcd3-f483aecf1e87",
   "metadata": {},
   "outputs": [
    {
     "name": "stdout",
     "output_type": "stream",
     "text": [
      "c is the largest number among three numbers\n"
     ]
    }
   ],
   "source": [
    "# Example of logical and operator\n",
    "a = 10\n",
    "b = 20\n",
    "c = 30\n",
    "if((c > b) and (b > a)): # it will execute when both conditions are true\n",
    "    print(\"c is the largest number among three numbers\")"
   ]
  },
  {
   "cell_type": "code",
   "execution_count": 16,
   "id": "dbb6e7c5-ce5e-48a9-805d-04a2ddf3bc1b",
   "metadata": {},
   "outputs": [
    {
     "name": "stdout",
     "output_type": "stream",
     "text": [
      "You can vote\n"
     ]
    }
   ],
   "source": [
    "# Example of logical or operator\n",
    "age = 25\n",
    "if((age == 18) or (age > 18)): # it will execute if either one condition is true\n",
    "    print(\"You can vote\")"
   ]
  },
  {
   "cell_type": "code",
   "execution_count": 20,
   "id": "9ad998c8-3e0d-4d93-a4fd-1fcbce707a78",
   "metadata": {},
   "outputs": [
    {
     "name": "stdout",
     "output_type": "stream",
     "text": [
      "False\n",
      "True\n"
     ]
    }
   ],
   "source": [
    "# Example of logical not\n",
    "print(not True)\n",
    "print(not False)"
   ]
  },
  {
   "cell_type": "markdown",
   "id": "a6683a30-9c2f-4bf9-bea9-a0e2e51cfad5",
   "metadata": {},
   "source": [
    "Membership Operator - The operators which are used to check substring is a part of a sring or not"
   ]
  },
  {
   "cell_type": "code",
   "execution_count": 10,
   "id": "7ca30cfa-665a-4863-877f-9347cf563334",
   "metadata": {},
   "outputs": [
    {
     "name": "stdout",
     "output_type": "stream",
     "text": [
      "True\n",
      "False\n",
      "False\n",
      "True\n"
     ]
    }
   ],
   "source": [
    "# Example of membership operator\n",
    "name = \"Kartik\"\n",
    "print(\"art\" in name)\n",
    "print(\"ak\" in name)\n",
    "print(\"art\" not in name)\n",
    "print(\"tak\" not in name)"
   ]
  },
  {
   "cell_type": "markdown",
   "id": "0ed6e37c-4106-4e35-a068-959b101d3962",
   "metadata": {},
   "source": [
    "Assignment Operator - Assignment operator execute an arithmatic operation and after that store the result into the same variable - assignment operators are =, +=, -=, *=, /=, %="
   ]
  },
  {
   "cell_type": "code",
   "execution_count": 23,
   "id": "c317705f-011f-4d3c-bed0-164856d4c17e",
   "metadata": {},
   "outputs": [
    {
     "name": "stdout",
     "output_type": "stream",
     "text": [
      "10\n",
      "20\n",
      "10\n",
      "100\n",
      "10.0\n",
      "0.0\n"
     ]
    }
   ],
   "source": [
    "# Example of assignment operator\n",
    "a = 10\n",
    "print(a)\n",
    "a += 10\n",
    "print(a)\n",
    "a -= 10\n",
    "print(a)\n",
    "a *= 10\n",
    "print(a)\n",
    "a /= 10\n",
    "print(a)\n",
    "a %= 10\n",
    "print(a)"
   ]
  },
  {
   "cell_type": "markdown",
   "id": "933c9d87",
   "metadata": {
    "jp-MarkdownHeadingCollapsed": true
   },
   "source": [
    "## 5. Explain the concept of type casting in Python with examples"
   ]
  },
  {
   "cell_type": "markdown",
   "id": "847003af",
   "metadata": {},
   "source": [
    "Typecasting is method which is used to change the datatype of a variable. \n",
    "syntax for typecasting is datatype(variable_name)"
   ]
  },
  {
   "cell_type": "code",
   "execution_count": 17,
   "id": "2db81b00",
   "metadata": {
    "scrolled": true
   },
   "outputs": [
    {
     "name": "stdout",
     "output_type": "stream",
     "text": [
      "<class 'int'>\n",
      "<class 'float'>\n",
      "<class 'float'>\n",
      "<class 'int'>\n"
     ]
    }
   ],
   "source": [
    "# Example for typecasting\n",
    "a = \"10\"\n",
    "print(type(int(a)))\n",
    "print(type(float(a)))\n",
    "b = 20\n",
    "print(type(float(b)))\n",
    "c = 2.5\n",
    "print(type(int(c)))"
   ]
  },
  {
   "cell_type": "markdown",
   "id": "8ed7697e",
   "metadata": {},
   "source": [
    "if actual string is going to convert into int or float it will throw an error"
   ]
  },
  {
   "cell_type": "code",
   "execution_count": 1,
   "id": "0ee8581e",
   "metadata": {
    "scrolled": true
   },
   "outputs": [
    {
     "ename": "ValueError",
     "evalue": "invalid literal for int() with base 10: 'kartik'",
     "output_type": "error",
     "traceback": [
      "\u001b[1;31m---------------------------------------------------------------------------\u001b[0m",
      "\u001b[1;31mValueError\u001b[0m                                Traceback (most recent call last)",
      "Cell \u001b[1;32mIn[1], line 2\u001b[0m\n\u001b[0;32m      1\u001b[0m \u001b[38;5;28mstr\u001b[39m \u001b[38;5;241m=\u001b[39m \u001b[38;5;124m\"\u001b[39m\u001b[38;5;124mkartik\u001b[39m\u001b[38;5;124m\"\u001b[39m\n\u001b[1;32m----> 2\u001b[0m \u001b[38;5;28;43mint\u001b[39;49m\u001b[43m(\u001b[49m\u001b[38;5;28;43mstr\u001b[39;49m\u001b[43m)\u001b[49m\n",
      "\u001b[1;31mValueError\u001b[0m: invalid literal for int() with base 10: 'kartik'"
     ]
    }
   ],
   "source": [
    "str = \"kartik\"\n",
    "int(str)"
   ]
  },
  {
   "cell_type": "markdown",
   "id": "3daea4b0-ed57-44af-9c58-67c2bd66ceef",
   "metadata": {
    "jp-MarkdownHeadingCollapsed": true
   },
   "source": [
    "## 6. How do conditional statements work in Python ? Illustrate with examples."
   ]
  },
  {
   "cell_type": "markdown",
   "id": "433af9d3-7e5d-4a68-ace0-df910627558a",
   "metadata": {},
   "source": [
    "Conditional statements are the statements in which peace of code written in conditional statement is execute until the condition is met\n",
    "Types of condtitional staement - \n",
    "1) if\n",
    "2) if-else\n",
    "3) if-elif"
   ]
  },
  {
   "cell_type": "markdown",
   "id": "8a353198-af90-44cf-8421-e6769d611747",
   "metadata": {},
   "source": [
    "1) if statement - if statement are used when there is only one condition have to check"
   ]
  },
  {
   "cell_type": "code",
   "execution_count": 5,
   "id": "28cf3948-2e15-4a00-a6e1-98403b40e00b",
   "metadata": {},
   "outputs": [
    {
     "name": "stdout",
     "output_type": "stream",
     "text": [
      "a is smaller number\n"
     ]
    }
   ],
   "source": [
    "#  example of if statement\n",
    "a = 10\n",
    "b = 20\n",
    "if(a < b):\n",
    "    print(\"a is smaller number\")"
   ]
  },
  {
   "cell_type": "markdown",
   "id": "787e00c2-c0ef-45d9-9101-7ad8996062f6",
   "metadata": {},
   "source": [
    "2)  In if-else statement  it frist checks if condition and if it is false then else part will be execute"
   ]
  },
  {
   "cell_type": "code",
   "execution_count": 9,
   "id": "b99fbc89-2807-4871-a9e9-5288829efd05",
   "metadata": {},
   "outputs": [
    {
     "name": "stdout",
     "output_type": "stream",
     "text": [
      "You can vote\n"
     ]
    }
   ],
   "source": [
    "#  example of if-else statement\n",
    "age = 18\n",
    "if(age >= 18):\n",
    "    print(\"You can vote\")\n",
    "else:\n",
    "    print(\"You can not vote\")"
   ]
  },
  {
   "cell_type": "markdown",
   "id": "9b917d18-36a3-4321-9828-43f6d75a56cf",
   "metadata": {},
   "source": [
    "In if-elif statement it check first if condition if it fails then check elif block if it is true then execute otherwise else part exeuted"
   ]
  },
  {
   "cell_type": "code",
   "execution_count": 11,
   "id": "e1e62cb6-64cd-4b77-8894-fd8aa7d9f1f0",
   "metadata": {},
   "outputs": [
    {
     "name": "stdout",
     "output_type": "stream",
     "text": [
      "x is lesser than y\n"
     ]
    }
   ],
   "source": [
    "# Example of if-elif\n",
    "x = 10\n",
    "y = 20\n",
    "if(x < y):\n",
    "    print(\"x is lesser than y\")\n",
    "elif(x > y):\n",
    "    print(\"x is greater than y\")\n",
    "else:\n",
    "    print(\"x is equal to y\")"
   ]
  },
  {
   "cell_type": "markdown",
   "id": "a0a6bff8-7da4-41a2-b41b-faefcedc77e2",
   "metadata": {
    "jp-MarkdownHeadingCollapsed": true
   },
   "source": [
    "## 7. Describe the different types of loops in Python and their use cases with examples."
   ]
  },
  {
   "cell_type": "markdown",
   "id": "2b4fef5d-d862-4b6f-8f5d-ea657aed05bf",
   "metadata": {},
   "source": [
    "Types of loops in python -\n",
    "    1)while loop \n",
    "    2)for loop"
   ]
  },
  {
   "cell_type": "markdown",
   "id": "97cf6cd4-529a-4d78-ad5c-bbe6624983f1",
   "metadata": {},
   "source": [
    "1) while loop - while loop runs until the given condition met. It checks the codition for every iteration and if condtion is true then execute code inside the while loop and once condition becomes false then while loop terminates\n",
    "\n",
    "    syntax of while loop -\n",
    "       while(condition):\n",
    "           code"
   ]
  },
  {
   "cell_type": "code",
   "execution_count": 4,
   "id": "22bb0ee2-6568-438d-91e1-d8bc528ef7e5",
   "metadata": {},
   "outputs": [
    {
     "name": "stdout",
     "output_type": "stream",
     "text": [
      "1\n",
      "2\n",
      "3\n",
      "4\n",
      "5\n",
      "6\n"
     ]
    }
   ],
   "source": [
    "# Example of while loop\n",
    "n = 7\n",
    "i = 1\n",
    "while(i < n):\n",
    "    print(i)\n",
    "    i += 1"
   ]
  },
  {
   "cell_type": "code",
   "execution_count": 3,
   "id": "c07f2de7-5a5e-4c4a-a000-630c0adb6887",
   "metadata": {},
   "outputs": [
    {
     "name": "stdout",
     "output_type": "stream",
     "text": [
      "hii\n",
      "hii\n",
      "hii\n",
      "hello\n"
     ]
    }
   ],
   "source": [
    "# Example of while loop with else statement\n",
    "n = 0\n",
    "while(n < 3):\n",
    "    print(\"hii\")\n",
    "    n += 1\n",
    "else:\n",
    "    print(\"hello\")"
   ]
  },
  {
   "cell_type": "code",
   "execution_count": 2,
   "id": "d858c61f-a178-4dcc-b9f2-5468b0d411d7",
   "metadata": {},
   "outputs": [
    {
     "name": "stdout",
     "output_type": "stream",
     "text": [
      "1\n",
      "2\n"
     ]
    }
   ],
   "source": [
    "# while loop with break\n",
    "a = 0\n",
    "while(a < 10):\n",
    "    a += 1\n",
    "    if a == 3:\n",
    "        break\n",
    "    print(a)"
   ]
  },
  {
   "cell_type": "code",
   "execution_count": 1,
   "id": "18b28918-c9c0-4cd6-9bb4-b5bd985202cb",
   "metadata": {},
   "outputs": [
    {
     "name": "stdout",
     "output_type": "stream",
     "text": [
      "1\n",
      "2\n",
      "4\n",
      "5\n",
      "6\n",
      "7\n",
      "8\n",
      "9\n",
      "10\n"
     ]
    }
   ],
   "source": [
    "# while with continue statement\n",
    "a = 0\n",
    "while(a < 10):\n",
    "    a += 1\n",
    "    if(a == 3):\n",
    "        continue\n",
    "    print(a)"
   ]
  },
  {
   "cell_type": "markdown",
   "id": "fec0f262-1496-4f5c-8a77-0ba1da7330c8",
   "metadata": {},
   "source": [
    "for loop - iterate over the sequence of element"
   ]
  },
  {
   "cell_type": "code",
   "execution_count": 5,
   "id": "fed27811-4932-489f-a1e7-49e224f09ebe",
   "metadata": {},
   "outputs": [
    {
     "name": "stdout",
     "output_type": "stream",
     "text": [
      "k\n",
      "a\n",
      "r\n",
      "t\n",
      "i\n",
      "k\n"
     ]
    }
   ],
   "source": [
    "# example of for loop\n",
    "for i in \"kartik\":\n",
    "    print(i)"
   ]
  },
  {
   "cell_type": "code",
   "execution_count": 6,
   "id": "471cbfd9-2d36-43ec-a01c-9474a637f094",
   "metadata": {},
   "outputs": [
    {
     "name": "stdout",
     "output_type": "stream",
     "text": [
      "1\n",
      "2\n",
      "kartik\n",
      "pwskills\n"
     ]
    }
   ],
   "source": [
    "# for loop iterate in list\n",
    "list1 = [1, 2, \"kartik\", \"pwskills\"]\n",
    "for i in list1:\n",
    "    print(i)"
   ]
  },
  {
   "cell_type": "code",
   "execution_count": 8,
   "id": "fceb6e24-5eee-4fa5-ae17-f9610c432dd5",
   "metadata": {},
   "outputs": [
    {
     "name": "stdout",
     "output_type": "stream",
     "text": [
      "1\n",
      "2\n",
      "kartik\n",
      "pwskills\n",
      "Execution of else condition\n"
     ]
    }
   ],
   "source": [
    "# for loop with else statement\n",
    "for i in list1:\n",
    "    print(i)\n",
    "else:\n",
    "    print(\"Execution of else condition\")"
   ]
  },
  {
   "cell_type": "code",
   "execution_count": 9,
   "id": "0b7b4612-740b-4d7f-922e-8a48270a482b",
   "metadata": {},
   "outputs": [
    {
     "name": "stdout",
     "output_type": "stream",
     "text": [
      "1\n",
      "2\n",
      "kartik\n"
     ]
    }
   ],
   "source": [
    "# for loop with break statement\n",
    "for i in list1:\n",
    "    if i == \"pwskills\":\n",
    "        break\n",
    "    print(i)"
   ]
  },
  {
   "cell_type": "code",
   "execution_count": 10,
   "id": "9c1252d3-838a-476a-8dd4-990119784597",
   "metadata": {},
   "outputs": [
    {
     "name": "stdout",
     "output_type": "stream",
     "text": [
      "1\n",
      "kartik\n",
      "pwskills\n"
     ]
    }
   ],
   "source": [
    "# for loop with continue\n",
    "for i in list1:\n",
    "    if i == 2:\n",
    "        continue\n",
    "    print(i)"
   ]
  },
  {
   "cell_type": "code",
   "execution_count": 14,
   "id": "b9c2b3ca-995e-421a-827e-b13e5fc03283",
   "metadata": {},
   "outputs": [
    {
     "name": "stdout",
     "output_type": "stream",
     "text": [
      "0 1 2 3 4 5 6 7 8 9 "
     ]
    }
   ],
   "source": [
    "# for loop with range\n",
    "\n",
    "for i in range(10):\n",
    "    print(i, end = \" \")"
   ]
  },
  {
   "cell_type": "code",
   "execution_count": null,
   "id": "9c342445-7fba-416c-a41c-68025abc9ac0",
   "metadata": {},
   "outputs": [],
   "source": []
  }
 ],
 "metadata": {
  "kernelspec": {
   "display_name": "Python 3 (ipykernel)",
   "language": "python",
   "name": "python3"
  },
  "language_info": {
   "codemirror_mode": {
    "name": "ipython",
    "version": 3
   },
   "file_extension": ".py",
   "mimetype": "text/x-python",
   "name": "python",
   "nbconvert_exporter": "python",
   "pygments_lexer": "ipython3",
   "version": "3.10.8"
  }
 },
 "nbformat": 4,
 "nbformat_minor": 5
}
